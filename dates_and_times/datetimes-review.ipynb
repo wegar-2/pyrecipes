{
 "cells": [
  {
   "cell_type": "code",
   "execution_count": 1,
   "id": "cbf6a914-e065-4577-b296-3dc13b04313c",
   "metadata": {},
   "outputs": [],
   "source": [
    "from datetime import date, datetime, time, timedelta\n",
    "import pytz\n",
    "import pandas as pd\n",
    "from dateutil.relativedelta import relativedelta"
   ]
  },
  {
   "cell_type": "markdown",
   "id": "a54480f2-5bc6-417c-bc65-b9e8ff5ad009",
   "metadata": {},
   "source": [
    "## Table of Contents\n",
    "1. `datetime`'s date, datetime, time and timedelta. Timezones with `pytz`\n",
    "2. using `dateutil`'s `relativedelta` for shifting datetimes by weeks, months, quarters and years\n",
    "3. dates and times in pandas\n",
    "4. pandas `Timestamp` conversions of `timezone`s"
   ]
  },
  {
   "cell_type": "markdown",
   "id": "995d86f7-47e2-456a-bf8f-7ff321d24401",
   "metadata": {},
   "source": [
    "### 1. `datetime`'s date, datetime, time and timedelta. Timezones with `pytz`"
   ]
  },
  {
   "cell_type": "markdown",
   "id": "ecd24f59-f803-402a-a1f1-b64a40567451",
   "metadata": {},
   "source": [
    "#### 1.1. basic instantiation"
   ]
  },
  {
   "cell_type": "code",
   "execution_count": 2,
   "id": "b55b4783-e94f-476f-afa9-bc51b7cb4f5a",
   "metadata": {},
   "outputs": [
    {
     "name": "stdout",
     "output_type": "stream",
     "text": [
      "None\n"
     ]
    }
   ],
   "source": [
    "d = date(2023, 11, 4)\n",
    "dt = datetime(2023, 12, 6, 10, 11, 23)\n",
    "print(dt.tzinfo)"
   ]
  },
  {
   "cell_type": "markdown",
   "id": "4878a563-846e-4904-bac9-6c36728d7faa",
   "metadata": {},
   "source": [
    "#### 1.2. listing all relevant `pytz` timezones"
   ]
  },
  {
   "cell_type": "code",
   "execution_count": 3,
   "id": "9d34722b-abeb-43c1-a0b0-ac56b39fe571",
   "metadata": {},
   "outputs": [
    {
     "data": {
      "text/plain": [
       "['Africa/Abidjan',\n",
       " 'Africa/Accra',\n",
       " 'Africa/Addis_Ababa',\n",
       " 'Africa/Algiers',\n",
       " 'Africa/Asmara']"
      ]
     },
     "execution_count": 3,
     "metadata": {},
     "output_type": "execute_result"
    }
   ],
   "source": [
    "pytz.all_timezones[:5]"
   ]
  },
  {
   "cell_type": "markdown",
   "id": "8252e5a0-b10b-4758-a484-5c0c07de4b12",
   "metadata": {},
   "source": [
    "#### 1.3. instantiating `pytz` timezones: CONTINENT/CITY format"
   ]
  },
  {
   "cell_type": "code",
   "execution_count": 4,
   "id": "bc7624ca-10eb-4f83-99f5-b9e7fb2b41f7",
   "metadata": {},
   "outputs": [],
   "source": [
    "WAWTZ = pytz.timezone(\"Europe/Warsaw\")\n",
    "MOSTZ = pytz.timezone(\"Europe/Moscow\")\n",
    "BERTZ = pytz.timezone(\"Europe/Berlin\")"
   ]
  },
  {
   "cell_type": "markdown",
   "id": "5b49332d-310c-4133-969d-1c1e038c5bd4",
   "metadata": {},
   "source": [
    "#### 1.4. NAIVE and AWARE `datetime`s: basic operations"
   ]
  },
  {
   "cell_type": "code",
   "execution_count": 5,
   "id": "87244ccb-2139-4e8b-8bbb-4d548319a4df",
   "metadata": {},
   "outputs": [
    {
     "name": "stdout",
     "output_type": "stream",
     "text": [
      "2023-12-06 10:11:23\n",
      "2023-12-06 10:11:23+01:00\n"
     ]
    }
   ],
   "source": [
    "# set timezone on a datetime\n",
    "print(dt)\n",
    "dt = dt.astimezone(WAWTZ)\n",
    "print(dt)"
   ]
  },
  {
   "cell_type": "code",
   "execution_count": 6,
   "id": "13a3ea5e-b9e2-45c9-bf55-9d93204645c6",
   "metadata": {},
   "outputs": [
    {
     "data": {
      "text/plain": [
       "datetime.datetime(2023, 12, 6, 12, 11, 23, tzinfo=<DstTzInfo 'Europe/Moscow' MSK+3:00:00 STD>)"
      ]
     },
     "execution_count": 6,
     "metadata": {},
     "output_type": "execute_result"
    }
   ],
   "source": [
    "dt.astimezone(MOSTZ)"
   ]
  },
  {
   "cell_type": "markdown",
   "id": "b0bae400-c3c3-4430-9e15-9cff591396c8",
   "metadata": {},
   "source": [
    "##### `datetime` without timezone information - naive `datetime`"
   ]
  },
  {
   "cell_type": "code",
   "execution_count": 7,
   "id": "edd81174-0a69-42e0-a6f9-03c75e42b743",
   "metadata": {},
   "outputs": [
    {
     "name": "stdout",
     "output_type": "stream",
     "text": [
      "2023-11-22 16:44:12\n",
      "None\n"
     ]
    }
   ],
   "source": [
    "naive_dt = datetime(2023, 11, 22, 16, 44, 12)\n",
    "print(naive_dt)\n",
    "# member field with tz information: .tzinfo\n",
    "print(naive_dt.tzinfo)"
   ]
  },
  {
   "cell_type": "markdown",
   "id": "74388294-d962-41bc-b379-51ea70e54268",
   "metadata": {},
   "source": [
    "##### making a `datetime` timezone-aware without re-casting it in different timezone "
   ]
  },
  {
   "cell_type": "code",
   "execution_count": 8,
   "id": "5304e7fc-6eb9-4ebe-8b75-b783d3355359",
   "metadata": {},
   "outputs": [
    {
     "name": "stdout",
     "output_type": "stream",
     "text": [
      "2023-11-22 16:44:12+01:24\n"
     ]
    }
   ],
   "source": [
    "aware_dt_warsaw = naive_dt.replace(tzinfo=WAWTZ)\n",
    "print(aware_dt_warsaw)"
   ]
  },
  {
   "cell_type": "markdown",
   "id": "49bb741b-7469-4f89-bd59-066637151491",
   "metadata": {},
   "source": [
    "##### it is 16:44 in Warsaw. Сколько сейчас времени в Москве?"
   ]
  },
  {
   "cell_type": "code",
   "execution_count": 9,
   "id": "a0136c00-0c22-4cac-9df3-711cb0de18d8",
   "metadata": {},
   "outputs": [
    {
     "name": "stdout",
     "output_type": "stream",
     "text": [
      "2023-11-22 18:20:12+03:00\n"
     ]
    }
   ],
   "source": [
    "aware_dt_moscow = aware_dt_warsaw.astimezone(MOSTZ)\n",
    "print(aware_dt_moscow)"
   ]
  },
  {
   "cell_type": "code",
   "execution_count": 10,
   "id": "dbefda46-7ce2-4cca-b0e9-9a75a16e3ce2",
   "metadata": {},
   "outputs": [
    {
     "name": "stdout",
     "output_type": "stream",
     "text": [
      "It is 2023-11-22 16:44:12+01:24 in Warsaw and 2023-11-22 18:20:12+03:00 in Moscow. \n"
     ]
    }
   ],
   "source": [
    "print(f\"It is {aware_dt_warsaw} in Warsaw and {aware_dt_moscow} in Moscow. \")"
   ]
  },
  {
   "cell_type": "markdown",
   "id": "a3f259d7-71ce-4a1b-863b-1f94c42384ce",
   "metadata": {},
   "source": [
    "##### last but not least, how to get rid of timezone information from aware datetime?"
   ]
  },
  {
   "cell_type": "code",
   "execution_count": 11,
   "id": "c175f124-f51e-4bf2-8992-d461c83c0068",
   "metadata": {},
   "outputs": [
    {
     "name": "stdout",
     "output_type": "stream",
     "text": [
      "2023-11-22 16:44:12\n"
     ]
    }
   ],
   "source": [
    "aware_dt_warsaw = aware_dt_warsaw.replace(tzinfo=None)\n",
    "print(aware_dt_warsaw)"
   ]
  },
  {
   "cell_type": "markdown",
   "id": "c1ddf37f-a44a-472b-b178-c56058198235",
   "metadata": {},
   "source": [
    "### 2. using `dateutil`'s `relativedelta` for shifting datetimes by weeks, months, quarters and years"
   ]
  },
  {
   "cell_type": "markdown",
   "id": "add52cf1-196f-4ae5-a5ed-011fcb446328",
   "metadata": {},
   "source": [
    "Important: distinct between singular and plural arguments (source - docs: https://dateutil.readthedocs.io/en/stable/relativedelta.html):\n",
    "\n",
    "* year, month, day, hour, minute, second, microsecond:\n",
    "    Absolute information (argument is singular); adding or subtracting a\n",
    "    relativedelta with absolute information does not perform an arithmetic\n",
    "    operation, but rather REPLACES the corresponding value in the\n",
    "    original datetime with the value(s) in relativedelta.\n",
    "* years, months, weeks, days, hours, minutes, seconds, microseconds:\n",
    "    Relative information, may be negative (argument is plural); adding\n",
    "    or subtracting a relativedelta with relative information performs\n",
    "    the corresponding arithmetic operation on the original datetime value\n",
    "    with the information in the relativedelta."
   ]
  },
  {
   "cell_type": "markdown",
   "id": "2c90531b-6a5d-4b5a-a3b9-e4b7b0150085",
   "metadata": {},
   "source": [
    "#### 2.1. shifting date by one week"
   ]
  },
  {
   "cell_type": "code",
   "execution_count": 12,
   "id": "e2c7c23a-8149-4a0d-a5e6-86a9d661379b",
   "metadata": {},
   "outputs": [],
   "source": [
    "d = date(2024, 1, 29)\n",
    "d_special = date(2024, 1, 31)"
   ]
  },
  {
   "cell_type": "code",
   "execution_count": 13,
   "id": "fe859229-7a75-48c5-bd16-76cab112471a",
   "metadata": {},
   "outputs": [
    {
     "name": "stdout",
     "output_type": "stream",
     "text": [
      "2024-02-05\n"
     ]
    }
   ],
   "source": [
    "dpW1 = d + relativedelta(weeks=1)\n",
    "print(dpW1)"
   ]
  },
  {
   "cell_type": "markdown",
   "id": "fe2a3f08-ef30-4dc1-844a-5791a2386259",
   "metadata": {},
   "source": [
    "#### 2.2. shifting date by months"
   ]
  },
  {
   "cell_type": "code",
   "execution_count": 14,
   "id": "ca3a6fad-ece0-4b0e-87cf-e925babe8039",
   "metadata": {},
   "outputs": [
    {
     "name": "stdout",
     "output_type": "stream",
     "text": [
      "2024-02-29\n",
      "2024-02-29\n"
     ]
    }
   ],
   "source": [
    "dpM1 = d + relativedelta(months=1)\n",
    "print(dpM1)\n",
    "d_special_pM1 = d + relativedelta(months=1)\n",
    "print(d_special_pM1)"
   ]
  },
  {
   "cell_type": "markdown",
   "id": "bb66f01d-a538-4396-955f-abef72c6ae37",
   "metadata": {},
   "source": [
    "#### 2.3. shifting date by quarters"
   ]
  },
  {
   "cell_type": "markdown",
   "id": "df447eb7-04dd-4f1b-9d3a-562e959c6d3a",
   "metadata": {},
   "source": [
    "#### 2.4. shifting date by years"
   ]
  },
  {
   "cell_type": "code",
   "execution_count": 15,
   "id": "f7ff465e-cfd7-4062-8b86-7452259f05e8",
   "metadata": {},
   "outputs": [
    {
     "name": "stdout",
     "output_type": "stream",
     "text": [
      "0001-01-29\n",
      "2025-01-29\n"
     ]
    }
   ],
   "source": [
    "dpY1 = d + relativedelta(year=1)\n",
    "print(dpY1)  # replaces\n",
    "dpYs1 = d + relativedelta(years=1)\n",
    "print(dpYs1)  # adds to"
   ]
  },
  {
   "cell_type": "markdown",
   "id": "b6496253-7100-497e-b904-875baa98b54b",
   "metadata": {},
   "source": [
    "## 3. dates and times in pandas"
   ]
  },
  {
   "cell_type": "markdown",
   "id": "3eef0aba-c717-4a97-9c94-ca8072a3095f",
   "metadata": {},
   "source": [
    "* `pd.to_datetime` - convert string, date, datetime columns to timestamp columns (`np.datetime64`)\n",
    "* pandas `dt` accessor works on `Timestamp` (aka `np.datetime64`) columns only"
   ]
  },
  {
   "cell_type": "markdown",
   "id": "70af5599-0367-4b05-9381-fe8d10780530",
   "metadata": {},
   "source": [
    "#### 3.0. type of column "
   ]
  },
  {
   "cell_type": "code",
   "execution_count": 51,
   "id": "7e1f9283-a84d-4f2b-8c44-5562860519f6",
   "metadata": {},
   "outputs": [
    {
     "data": {
      "text/plain": [
       "Timestamp('2023-01-01 00:00:00')"
      ]
     },
     "execution_count": 51,
     "metadata": {},
     "output_type": "execute_result"
    }
   ],
   "source": [
    "pd.to_datetime(date(2023, 1, 1))"
   ]
  },
  {
   "cell_type": "code",
   "execution_count": 53,
   "id": "a05137bb-3d5a-4a7c-97ff-398d7dd776a0",
   "metadata": {},
   "outputs": [
    {
     "data": {
      "text/plain": [
       "Timestamp('2023-01-02 13:00:00')"
      ]
     },
     "execution_count": 53,
     "metadata": {},
     "output_type": "execute_result"
    }
   ],
   "source": [
    "pd.to_datetime(datetime(2023, 1, 2, 13, 0))"
   ]
  },
  {
   "cell_type": "code",
   "execution_count": 78,
   "id": "0012a143-aea2-4844-bbec-dd7f19eb7102",
   "metadata": {},
   "outputs": [],
   "source": [
    "data = pd.DataFrame(data={\"date\": [date(2024, 1, 4), date(2024, 1, 2)]})\n",
    "data[\"date\"] = pd.to_datetime(data[\"date\"])"
   ]
  },
  {
   "cell_type": "code",
   "execution_count": 82,
   "id": "f7e3be48-abd7-4131-9cd1-6b3e1e21c2d8",
   "metadata": {},
   "outputs": [
    {
     "name": "stdout",
     "output_type": "stream",
     "text": [
      "2024-01-02 00:00:00\n",
      "1704153600000000000\n"
     ]
    }
   ],
   "source": [
    "print(data[\"date\"][1])\n",
    "print(data[\"date\"][1].value)"
   ]
  },
  {
   "cell_type": "markdown",
   "id": "a00b661b-8265-4805-bba4-9f7ed9264e2e",
   "metadata": {},
   "source": [
    "#### 3.1. `date` to `np.datetime64` with `pd.to_datetime`"
   ]
  },
  {
   "cell_type": "code",
   "execution_count": 42,
   "id": "7ce6ee46-a24d-486a-9a93-df1879073b48",
   "metadata": {},
   "outputs": [
    {
     "data": {
      "text/html": [
       "<div>\n",
       "<style scoped>\n",
       "    .dataframe tbody tr th:only-of-type {\n",
       "        vertical-align: middle;\n",
       "    }\n",
       "\n",
       "    .dataframe tbody tr th {\n",
       "        vertical-align: top;\n",
       "    }\n",
       "\n",
       "    .dataframe thead th {\n",
       "        text-align: right;\n",
       "    }\n",
       "</style>\n",
       "<table border=\"1\" class=\"dataframe\">\n",
       "  <thead>\n",
       "    <tr style=\"text-align: right;\">\n",
       "      <th></th>\n",
       "      <th>date</th>\n",
       "    </tr>\n",
       "  </thead>\n",
       "  <tbody>\n",
       "    <tr>\n",
       "      <th>0</th>\n",
       "      <td>2023-01-10</td>\n",
       "    </tr>\n",
       "    <tr>\n",
       "      <th>1</th>\n",
       "      <td>2023-01-12</td>\n",
       "    </tr>\n",
       "  </tbody>\n",
       "</table>\n",
       "</div>"
      ],
      "text/plain": [
       "         date\n",
       "0  2023-01-10\n",
       "1  2023-01-12"
      ]
     },
     "execution_count": 42,
     "metadata": {},
     "output_type": "execute_result"
    }
   ],
   "source": [
    "df = pd.DataFrame(data={\"date\": [date(2023, 1, 10), date(2023, 1, 12)]})\n",
    "df"
   ]
  },
  {
   "cell_type": "code",
   "execution_count": 43,
   "id": "b25e8cf0-d3f1-4b47-b5cf-f626174d6f3b",
   "metadata": {},
   "outputs": [
    {
     "data": {
      "text/plain": [
       "date    object\n",
       "dtype: object"
      ]
     },
     "execution_count": 43,
     "metadata": {},
     "output_type": "execute_result"
    }
   ],
   "source": [
    "df.dtypes"
   ]
  },
  {
   "cell_type": "code",
   "execution_count": 44,
   "id": "fa8ba8c7-bf5b-465b-bf2c-33514d4b8a69",
   "metadata": {},
   "outputs": [
    {
     "data": {
      "text/plain": [
       "datetime.date(2023, 1, 10)"
      ]
     },
     "execution_count": 44,
     "metadata": {},
     "output_type": "execute_result"
    }
   ],
   "source": [
    "# note that date object is stored as object type in a data frame\n",
    "df[\"date\"][0]"
   ]
  },
  {
   "cell_type": "code",
   "execution_count": 54,
   "id": "4ad2545b-9c2b-45b4-9d97-eb3ac1f04f7c",
   "metadata": {},
   "outputs": [
    {
     "data": {
      "text/plain": [
       "0   2023-01-10\n",
       "1   2023-01-12\n",
       "Name: date, dtype: datetime64[ns]"
      ]
     },
     "execution_count": 54,
     "metadata": {},
     "output_type": "execute_result"
    }
   ],
   "source": [
    "temp = pd.to_datetime(df[\"date\"])\n",
    "temp"
   ]
  },
  {
   "cell_type": "markdown",
   "id": "55105c6e-c1b1-4baf-a77a-9869ba1bcd80",
   "metadata": {},
   "source": [
    "#### 3.2. `str` to `np.datetime64` with `pd.to_datetime`"
   ]
  },
  {
   "cell_type": "code",
   "execution_count": 32,
   "id": "9b659e41-d928-42b3-a76d-5d3129f6603e",
   "metadata": {},
   "outputs": [],
   "source": [
    "df[\"date\"] = df[\"date\"].apply(lambda x: x.strftime(\"%Y-%m-%d\"))"
   ]
  },
  {
   "cell_type": "code",
   "execution_count": 33,
   "id": "fe8c085d-2e5b-421d-a879-ba4985a16840",
   "metadata": {},
   "outputs": [
    {
     "data": {
      "text/plain": [
       "'2023-01-10'"
      ]
     },
     "execution_count": 33,
     "metadata": {},
     "output_type": "execute_result"
    }
   ],
   "source": [
    "df[\"date\"][0]"
   ]
  },
  {
   "cell_type": "code",
   "execution_count": 47,
   "id": "7b24645b-8a74-4c08-b81b-e93848288cc8",
   "metadata": {},
   "outputs": [
    {
     "data": {
      "text/plain": [
       "0   2023-01-10\n",
       "1   2023-01-12\n",
       "Name: date, dtype: datetime64[ns]"
      ]
     },
     "execution_count": 47,
     "metadata": {},
     "output_type": "execute_result"
    }
   ],
   "source": [
    "pd.to_datetime(df[\"date\"])"
   ]
  },
  {
   "cell_type": "markdown",
   "id": "4dbb4d83-97b6-403c-a5fb-b7fbb7b5d0ad",
   "metadata": {},
   "source": [
    "#### 3.3. `datetime` to `np.datetime64` with `pd.to_datetime`"
   ]
  },
  {
   "cell_type": "code",
   "execution_count": 49,
   "id": "cfadf60c-e084-430e-b348-fa9769d8cd64",
   "metadata": {},
   "outputs": [
    {
     "data": {
      "text/plain": [
       "datetime.date(2023, 1, 10)"
      ]
     },
     "execution_count": 49,
     "metadata": {},
     "output_type": "execute_result"
    }
   ],
   "source": [
    "df[\"date\"][0]"
   ]
  },
  {
   "cell_type": "markdown",
   "id": "d1fd7b41-9609-45ea-b5ae-4993fdcab986",
   "metadata": {},
   "source": [
    "## 4. pandas `Timestamp` conversions of `timezone`s"
   ]
  },
  {
   "cell_type": "code",
   "execution_count": 57,
   "id": "4ab240d8-db90-41a9-854f-34a16954106e",
   "metadata": {},
   "outputs": [],
   "source": [
    "data = pd.DataFrame(data={\"date\": [\"2023-01-02\", \"2023-01-03\"]})"
   ]
  },
  {
   "cell_type": "code",
   "execution_count": 62,
   "id": "316ce078-4899-4d8e-b0d6-1b780021030f",
   "metadata": {},
   "outputs": [
    {
     "data": {
      "text/plain": [
       "date    datetime64[ns]\n",
       "dtype: object"
      ]
     },
     "execution_count": 62,
     "metadata": {},
     "output_type": "execute_result"
    }
   ],
   "source": [
    "data[\"date\"] = pd.to_datetime(data[\"date\"])\n",
    "data.dtypes"
   ]
  },
  {
   "cell_type": "code",
   "execution_count": 63,
   "id": "44206853-04c3-43d0-91ab-be30659161bd",
   "metadata": {},
   "outputs": [
    {
     "data": {
      "text/plain": [
       "Timestamp('2023-01-02 00:00:00')"
      ]
     },
     "execution_count": 63,
     "metadata": {},
     "output_type": "execute_result"
    }
   ],
   "source": [
    "data[\"date\"][0]"
   ]
  },
  {
   "cell_type": "markdown",
   "id": "a2569f52-8b06-42ab-b0f1-bf9c1d74248d",
   "metadata": {},
   "source": [
    "#### 4.1. `tz_localize` method"
   ]
  },
  {
   "cell_type": "code",
   "execution_count": 67,
   "id": "aae811ab-463e-4466-b61c-61280cdefdff",
   "metadata": {},
   "outputs": [],
   "source": [
    "data[\"date_UTC\"] = data[\"date\"].dt.tz_localize(pytz.UTC)"
   ]
  },
  {
   "cell_type": "markdown",
   "id": "a1a4e8aa-2865-49f4-82c3-b9f5c9b61277",
   "metadata": {},
   "source": [
    "#### 4.2. `tz_convert` method"
   ]
  },
  {
   "cell_type": "code",
   "execution_count": 71,
   "id": "7f42296c-7297-4370-bb1f-cee64647d317",
   "metadata": {},
   "outputs": [
    {
     "data": {
      "text/html": [
       "<div>\n",
       "<style scoped>\n",
       "    .dataframe tbody tr th:only-of-type {\n",
       "        vertical-align: middle;\n",
       "    }\n",
       "\n",
       "    .dataframe tbody tr th {\n",
       "        vertical-align: top;\n",
       "    }\n",
       "\n",
       "    .dataframe thead th {\n",
       "        text-align: right;\n",
       "    }\n",
       "</style>\n",
       "<table border=\"1\" class=\"dataframe\">\n",
       "  <thead>\n",
       "    <tr style=\"text-align: right;\">\n",
       "      <th></th>\n",
       "      <th>date</th>\n",
       "      <th>date_UTC</th>\n",
       "      <th>date_CET</th>\n",
       "    </tr>\n",
       "  </thead>\n",
       "  <tbody>\n",
       "    <tr>\n",
       "      <th>0</th>\n",
       "      <td>2023-01-02</td>\n",
       "      <td>2023-01-02 00:00:00+00:00</td>\n",
       "      <td>2023-01-02 01:00:00+01:00</td>\n",
       "    </tr>\n",
       "    <tr>\n",
       "      <th>1</th>\n",
       "      <td>2023-01-03</td>\n",
       "      <td>2023-01-03 00:00:00+00:00</td>\n",
       "      <td>2023-01-03 01:00:00+01:00</td>\n",
       "    </tr>\n",
       "  </tbody>\n",
       "</table>\n",
       "</div>"
      ],
      "text/plain": [
       "        date                  date_UTC                  date_CET\n",
       "0 2023-01-02 2023-01-02 00:00:00+00:00 2023-01-02 01:00:00+01:00\n",
       "1 2023-01-03 2023-01-03 00:00:00+00:00 2023-01-03 01:00:00+01:00"
      ]
     },
     "execution_count": 71,
     "metadata": {},
     "output_type": "execute_result"
    }
   ],
   "source": [
    "CET = pytz.timezone(\"CET\")\n",
    "data[\"date_CET\"] = data[\"date_UTC\"].dt.tz_convert(CET)\n",
    "data"
   ]
  }
 ],
 "metadata": {
  "kernelspec": {
   "display_name": "Python 3 (ipykernel)",
   "language": "python",
   "name": "python3"
  },
  "language_info": {
   "codemirror_mode": {
    "name": "ipython",
    "version": 3
   },
   "file_extension": ".py",
   "mimetype": "text/x-python",
   "name": "python",
   "nbconvert_exporter": "python",
   "pygments_lexer": "ipython3",
   "version": "3.11.4"
  }
 },
 "nbformat": 4,
 "nbformat_minor": 5
}
