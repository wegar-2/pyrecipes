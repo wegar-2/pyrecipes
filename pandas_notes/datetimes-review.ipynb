{
 "cells": [
  {
   "cell_type": "code",
   "execution_count": 19,
   "id": "cbf6a914-e065-4577-b296-3dc13b04313c",
   "metadata": {},
   "outputs": [],
   "source": [
    "from datetime import date, datetime, time, timedelta\n",
    "import pytz\n",
    "import pandas as pd\n",
    "from dateutil.relativedelta import relativedelta"
   ]
  },
  {
   "cell_type": "markdown",
   "id": "a54480f2-5bc6-417c-bc65-b9e8ff5ad009",
   "metadata": {},
   "source": [
    "## Table of Contents\n",
    "1. `datetime`'s date, datetime, time and timedelta. Timezones with `pytz`\n",
    "2. using `dateutil`'s `relativedelta` for shifting datetimes by weeks, months, quarters and years\n",
    "3. handling of summer time switches on `datetime`s\n",
    "4. working with time in `pandas`\n",
    "5. getting days of week information from dates\n",
    "6. working with various calendars: full, business, etc."
   ]
  },
  {
   "cell_type": "markdown",
   "id": "995d86f7-47e2-456a-bf8f-7ff321d24401",
   "metadata": {},
   "source": [
    "### 1. `datetime`'s date, datetime, time and timedelta. Timezones with `pytz`"
   ]
  },
  {
   "cell_type": "markdown",
   "id": "ecd24f59-f803-402a-a1f1-b64a40567451",
   "metadata": {},
   "source": [
    "#### 1.1. basic instantiation"
   ]
  },
  {
   "cell_type": "code",
   "execution_count": 3,
   "id": "b55b4783-e94f-476f-afa9-bc51b7cb4f5a",
   "metadata": {},
   "outputs": [
    {
     "name": "stdout",
     "output_type": "stream",
     "text": [
      "None\n"
     ]
    }
   ],
   "source": [
    "d = date(2023, 11, 4)\n",
    "dt = datetime(2023, 12, 6, 10, 11, 23)\n",
    "print(dt.tzinfo)"
   ]
  },
  {
   "cell_type": "markdown",
   "id": "4878a563-846e-4904-bac9-6c36728d7faa",
   "metadata": {},
   "source": [
    "#### 1.2. listing all relevant `pytz` timezones"
   ]
  },
  {
   "cell_type": "code",
   "execution_count": 4,
   "id": "9d34722b-abeb-43c1-a0b0-ac56b39fe571",
   "metadata": {},
   "outputs": [
    {
     "data": {
      "text/plain": [
       "['Africa/Abidjan',\n",
       " 'Africa/Accra',\n",
       " 'Africa/Addis_Ababa',\n",
       " 'Africa/Algiers',\n",
       " 'Africa/Asmara']"
      ]
     },
     "execution_count": 4,
     "metadata": {},
     "output_type": "execute_result"
    }
   ],
   "source": [
    "pytz.all_timezones[:5]"
   ]
  },
  {
   "cell_type": "markdown",
   "id": "8252e5a0-b10b-4758-a484-5c0c07de4b12",
   "metadata": {},
   "source": [
    "#### 1.3. instantiating `pytz` timezones: CONTINENT/CITY format"
   ]
  },
  {
   "cell_type": "code",
   "execution_count": 5,
   "id": "bc7624ca-10eb-4f83-99f5-b9e7fb2b41f7",
   "metadata": {},
   "outputs": [],
   "source": [
    "WAWTZ = pytz.timezone(\"Europe/Warsaw\")\n",
    "MOSTZ = pytz.timezone(\"Europe/Moscow\")\n",
    "BERTZ = pytz.timezone(\"Europe/Berlin\")"
   ]
  },
  {
   "cell_type": "markdown",
   "id": "5b49332d-310c-4133-969d-1c1e038c5bd4",
   "metadata": {},
   "source": [
    "#### 1.4. NAIVE and AWARE `datetime`s: basic operations"
   ]
  },
  {
   "cell_type": "code",
   "execution_count": 6,
   "id": "87244ccb-2139-4e8b-8bbb-4d548319a4df",
   "metadata": {},
   "outputs": [
    {
     "name": "stdout",
     "output_type": "stream",
     "text": [
      "2023-12-06 10:11:23\n",
      "2023-12-06 10:11:23+01:00\n"
     ]
    }
   ],
   "source": [
    "# set timezone on a datetime\n",
    "print(dt)\n",
    "dt = dt.astimezone(WAWTZ)\n",
    "print(dt)"
   ]
  },
  {
   "cell_type": "code",
   "execution_count": 7,
   "id": "13a3ea5e-b9e2-45c9-bf55-9d93204645c6",
   "metadata": {},
   "outputs": [
    {
     "data": {
      "text/plain": [
       "datetime.datetime(2023, 12, 6, 12, 11, 23, tzinfo=<DstTzInfo 'Europe/Moscow' MSK+3:00:00 STD>)"
      ]
     },
     "execution_count": 7,
     "metadata": {},
     "output_type": "execute_result"
    }
   ],
   "source": [
    "dt.astimezone(MOSTZ)"
   ]
  },
  {
   "cell_type": "markdown",
   "id": "b0bae400-c3c3-4430-9e15-9cff591396c8",
   "metadata": {},
   "source": [
    "##### `datetime` without timezone information - naive `datetime`"
   ]
  },
  {
   "cell_type": "code",
   "execution_count": 8,
   "id": "edd81174-0a69-42e0-a6f9-03c75e42b743",
   "metadata": {},
   "outputs": [
    {
     "name": "stdout",
     "output_type": "stream",
     "text": [
      "2023-11-22 16:44:12\n",
      "None\n"
     ]
    }
   ],
   "source": [
    "naive_dt = datetime(2023, 11, 22, 16, 44, 12)\n",
    "print(naive_dt)\n",
    "# member field with tz information: .tzinfo\n",
    "print(naive_dt.tzinfo)"
   ]
  },
  {
   "cell_type": "markdown",
   "id": "74388294-d962-41bc-b379-51ea70e54268",
   "metadata": {},
   "source": [
    "##### making a `datetime` timezone-aware without re-casting it in different timezone "
   ]
  },
  {
   "cell_type": "code",
   "execution_count": 9,
   "id": "5304e7fc-6eb9-4ebe-8b75-b783d3355359",
   "metadata": {},
   "outputs": [
    {
     "name": "stdout",
     "output_type": "stream",
     "text": [
      "2023-11-22 16:44:12+01:24\n"
     ]
    }
   ],
   "source": [
    "aware_dt_warsaw = naive_dt.replace(tzinfo=WAWTZ)\n",
    "print(aware_dt_warsaw)"
   ]
  },
  {
   "cell_type": "markdown",
   "id": "49bb741b-7469-4f89-bd59-066637151491",
   "metadata": {},
   "source": [
    "##### it is 16:44 in Warsaw. Сколько сейчас времени в Москве?"
   ]
  },
  {
   "cell_type": "code",
   "execution_count": 10,
   "id": "a0136c00-0c22-4cac-9df3-711cb0de18d8",
   "metadata": {},
   "outputs": [
    {
     "name": "stdout",
     "output_type": "stream",
     "text": [
      "2023-11-22 18:20:12+03:00\n"
     ]
    }
   ],
   "source": [
    "aware_dt_moscow = aware_dt_warsaw.astimezone(MOSTZ)\n",
    "print(aware_dt_moscow)"
   ]
  },
  {
   "cell_type": "code",
   "execution_count": 11,
   "id": "dbefda46-7ce2-4cca-b0e9-9a75a16e3ce2",
   "metadata": {},
   "outputs": [
    {
     "name": "stdout",
     "output_type": "stream",
     "text": [
      "It is 2023-11-22 16:44:12+01:24 in Warsaw and 2023-11-22 18:20:12+03:00 in Moscow. \n"
     ]
    }
   ],
   "source": [
    "print(f\"It is {aware_dt_warsaw} in Warsaw and {aware_dt_moscow} in Moscow. \")"
   ]
  },
  {
   "cell_type": "markdown",
   "id": "a3f259d7-71ce-4a1b-863b-1f94c42384ce",
   "metadata": {},
   "source": [
    "##### last but not least, how to get rid of timezone information from aware datetime?"
   ]
  },
  {
   "cell_type": "code",
   "execution_count": 15,
   "id": "c175f124-f51e-4bf2-8992-d461c83c0068",
   "metadata": {},
   "outputs": [
    {
     "name": "stdout",
     "output_type": "stream",
     "text": [
      "2023-11-22 16:44:12\n"
     ]
    }
   ],
   "source": [
    "aware_dt_warsaw = aware_dt_warsaw.replace(tzinfo=None)\n",
    "print(aware_dt_warsaw)"
   ]
  },
  {
   "cell_type": "markdown",
   "id": "c1ddf37f-a44a-472b-b178-c56058198235",
   "metadata": {},
   "source": [
    "### 2. using `dateutil`'s `relativedelta` for shifting datetimes by weeks, months, quarters and years"
   ]
  },
  {
   "cell_type": "markdown",
   "id": "add52cf1-196f-4ae5-a5ed-011fcb446328",
   "metadata": {},
   "source": [
    "Important: distinct between singular and plural arguments (source - docs: https://dateutil.readthedocs.io/en/stable/relativedelta.html):\n",
    "\n",
    "* year, month, day, hour, minute, second, microsecond:\n",
    "    Absolute information (argument is singular); adding or subtracting a\n",
    "    relativedelta with absolute information does not perform an arithmetic\n",
    "    operation, but rather REPLACES the corresponding value in the\n",
    "    original datetime with the value(s) in relativedelta.\n",
    "* years, months, weeks, days, hours, minutes, seconds, microseconds:\n",
    "    Relative information, may be negative (argument is plural); adding\n",
    "    or subtracting a relativedelta with relative information performs\n",
    "    the corresponding arithmetic operation on the original datetime value\n",
    "    with the information in the relativedelta."
   ]
  },
  {
   "cell_type": "markdown",
   "id": "2c90531b-6a5d-4b5a-a3b9-e4b7b0150085",
   "metadata": {},
   "source": [
    "#### 2.1. shifting date by one week"
   ]
  },
  {
   "cell_type": "code",
   "execution_count": 32,
   "id": "e2c7c23a-8149-4a0d-a5e6-86a9d661379b",
   "metadata": {},
   "outputs": [],
   "source": [
    "d = date(2024, 1, 29)\n",
    "d_special = date(2024, 1, 31)"
   ]
  },
  {
   "cell_type": "code",
   "execution_count": 26,
   "id": "fe859229-7a75-48c5-bd16-76cab112471a",
   "metadata": {},
   "outputs": [
    {
     "name": "stdout",
     "output_type": "stream",
     "text": [
      "2024-02-05\n"
     ]
    }
   ],
   "source": [
    "dpW1 = d + relativedelta(weeks=1)\n",
    "print(dpW1)"
   ]
  },
  {
   "cell_type": "markdown",
   "id": "fe2a3f08-ef30-4dc1-844a-5791a2386259",
   "metadata": {},
   "source": [
    "#### 2.2. shifting date by months"
   ]
  },
  {
   "cell_type": "code",
   "execution_count": 36,
   "id": "ca3a6fad-ece0-4b0e-87cf-e925babe8039",
   "metadata": {},
   "outputs": [
    {
     "name": "stdout",
     "output_type": "stream",
     "text": [
      "2024-02-29\n",
      "2024-02-29\n"
     ]
    }
   ],
   "source": [
    "dpM1 = d + relativedelta(months=1)\n",
    "print(dpM1)\n",
    "d_special_pM1 = d + relativedelta(months=1)\n",
    "print(d_special_pM1)"
   ]
  },
  {
   "cell_type": "markdown",
   "id": "bb66f01d-a538-4396-955f-abef72c6ae37",
   "metadata": {},
   "source": [
    "#### 2.3. shifting date by quarters"
   ]
  },
  {
   "cell_type": "markdown",
   "id": "df447eb7-04dd-4f1b-9d3a-562e959c6d3a",
   "metadata": {},
   "source": [
    "#### 2.4. shifting date by years"
   ]
  },
  {
   "cell_type": "code",
   "execution_count": 28,
   "id": "f7ff465e-cfd7-4062-8b86-7452259f05e8",
   "metadata": {},
   "outputs": [
    {
     "name": "stdout",
     "output_type": "stream",
     "text": [
      "0001-01-29\n",
      "2025-01-29\n"
     ]
    }
   ],
   "source": [
    "dpY1 = d + relativedelta(year=1)\n",
    "print(dpY1)  # replaces\n",
    "dpYs1 = d + relativedelta(years=1)\n",
    "print(dpYs1)  # adds to"
   ]
  },
  {
   "cell_type": "code",
   "execution_count": null,
   "id": "e383ae59-f87c-4c5b-ba7d-99d05f33e208",
   "metadata": {},
   "outputs": [],
   "source": []
  }
 ],
 "metadata": {
  "kernelspec": {
   "display_name": "Python 3 (ipykernel)",
   "language": "python",
   "name": "python3"
  },
  "language_info": {
   "codemirror_mode": {
    "name": "ipython",
    "version": 3
   },
   "file_extension": ".py",
   "mimetype": "text/x-python",
   "name": "python",
   "nbconvert_exporter": "python",
   "pygments_lexer": "ipython3",
   "version": "3.11.4"
  }
 },
 "nbformat": 4,
 "nbformat_minor": 5
}
