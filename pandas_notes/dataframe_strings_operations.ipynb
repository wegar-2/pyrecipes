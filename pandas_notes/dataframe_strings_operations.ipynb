{
 "cells": [
  {
   "cell_type": "code",
   "execution_count": 1,
   "id": "09756ca8-fda0-42a1-908f-e10a608b7f96",
   "metadata": {},
   "outputs": [],
   "source": [
    "import pandas as pd\n",
    "from datetime import date\n",
    "from string import ascii_letters"
   ]
  },
  {
   "cell_type": "code",
   "execution_count": 5,
   "id": "94c426b9-dce0-4620-a263-f0e103113621",
   "metadata": {},
   "outputs": [],
   "source": [
    "data = pd.DataFrame(data={\"text\": [\"bar_1234\", \"foo_1234\", \"stuff_43_323\"]})"
   ]
  },
  {
   "cell_type": "markdown",
   "id": "e2acb6da-a0cd-44b2-b50b-683a9c69d7b3",
   "metadata": {},
   "source": [
    "### Running string operations on string columns"
   ]
  },
  {
   "cell_type": "code",
   "execution_count": 6,
   "id": "2f52c6a7-0f93-410e-b145-40ee6e8cc125",
   "metadata": {},
   "outputs": [
    {
     "data": {
      "text/plain": [
       "0     True\n",
       "1    False\n",
       "2    False\n",
       "Name: text, dtype: bool"
      ]
     },
     "execution_count": 6,
     "metadata": {},
     "output_type": "execute_result"
    }
   ],
   "source": [
    "data[\"text\"].str.startswith(\"bar\")"
   ]
  },
  {
   "cell_type": "code",
   "execution_count": 7,
   "id": "40aa8d6f-e711-4e3d-b086-14bafd9515c9",
   "metadata": {},
   "outputs": [
    {
     "data": {
      "text/html": [
       "<div>\n",
       "<style scoped>\n",
       "    .dataframe tbody tr th:only-of-type {\n",
       "        vertical-align: middle;\n",
       "    }\n",
       "\n",
       "    .dataframe tbody tr th {\n",
       "        vertical-align: top;\n",
       "    }\n",
       "\n",
       "    .dataframe thead th {\n",
       "        text-align: right;\n",
       "    }\n",
       "</style>\n",
       "<table border=\"1\" class=\"dataframe\">\n",
       "  <thead>\n",
       "    <tr style=\"text-align: right;\">\n",
       "      <th></th>\n",
       "      <th>0</th>\n",
       "      <th>1</th>\n",
       "      <th>2</th>\n",
       "    </tr>\n",
       "  </thead>\n",
       "  <tbody>\n",
       "    <tr>\n",
       "      <th>0</th>\n",
       "      <td>bar</td>\n",
       "      <td>1234</td>\n",
       "      <td>None</td>\n",
       "    </tr>\n",
       "    <tr>\n",
       "      <th>1</th>\n",
       "      <td>foo</td>\n",
       "      <td>1234</td>\n",
       "      <td>None</td>\n",
       "    </tr>\n",
       "    <tr>\n",
       "      <th>2</th>\n",
       "      <td>stuff</td>\n",
       "      <td>43</td>\n",
       "      <td>323</td>\n",
       "    </tr>\n",
       "  </tbody>\n",
       "</table>\n",
       "</div>"
      ],
      "text/plain": [
       "       0     1     2\n",
       "0    bar  1234  None\n",
       "1    foo  1234  None\n",
       "2  stuff    43   323"
      ]
     },
     "execution_count": 7,
     "metadata": {},
     "output_type": "execute_result"
    }
   ],
   "source": [
    "data[\"text\"].str.split(\"_\", expand=True)"
   ]
  },
  {
   "cell_type": "markdown",
   "id": "0fdfe431-d9cc-4b4e-ae36-8801c3bbe597",
   "metadata": {},
   "source": [
    "## pandas' string types"
   ]
  },
  {
   "cell_type": "code",
   "execution_count": 8,
   "id": "736b2a1a-e6a0-46e4-8c3e-98b7fee55d7a",
   "metadata": {},
   "outputs": [
    {
     "data": {
      "text/plain": [
       "text    object\n",
       "dtype: object"
      ]
     },
     "execution_count": 8,
     "metadata": {},
     "output_type": "execute_result"
    }
   ],
   "source": [
    "# default string type: object\n",
    "data.dtypes"
   ]
  },
  {
   "cell_type": "code",
   "execution_count": 9,
   "id": "7302de7d-2776-4cb6-8439-4ea2c53de354",
   "metadata": {},
   "outputs": [
    {
     "data": {
      "text/plain": [
       "pandas.core.arrays.string_.StringDtype"
      ]
     },
     "execution_count": 9,
     "metadata": {},
     "output_type": "execute_result"
    }
   ],
   "source": [
    "# alternative string type: StringDtype\n",
    "pd.StringDtype"
   ]
  },
  {
   "cell_type": "code",
   "execution_count": 12,
   "id": "6dc07e69-8403-432b-8899-9872e818f186",
   "metadata": {},
   "outputs": [
    {
     "data": {
      "text/plain": [
       "0        bar_1234\n",
       "1        foo_1234\n",
       "2    stuff_43_323\n",
       "Name: text, dtype: string"
      ]
     },
     "execution_count": 12,
     "metadata": {},
     "output_type": "execute_result"
    }
   ],
   "source": [
    "data[\"text\"].astype(\"string\")"
   ]
  },
  {
   "cell_type": "code",
   "execution_count": 13,
   "id": "2246e6ce-ace6-47e6-8d6a-13aaf4a1fa2b",
   "metadata": {},
   "outputs": [
    {
     "data": {
      "text/plain": [
       "0     True\n",
       "1     True\n",
       "2    False\n",
       "Name: text, dtype: bool"
      ]
     },
     "execution_count": 13,
     "metadata": {},
     "output_type": "execute_result"
    }
   ],
   "source": [
    "data[\"text\"].str.endswith(\"1234\")"
   ]
  }
 ],
 "metadata": {
  "kernelspec": {
   "display_name": "pyrecipes",
   "language": "python",
   "name": "pyrecipes"
  },
  "language_info": {
   "codemirror_mode": {
    "name": "ipython",
    "version": 3
   },
   "file_extension": ".py",
   "mimetype": "text/x-python",
   "name": "python",
   "nbconvert_exporter": "python",
   "pygments_lexer": "ipython3",
   "version": "3.11.4"
  }
 },
 "nbformat": 4,
 "nbformat_minor": 5
}
