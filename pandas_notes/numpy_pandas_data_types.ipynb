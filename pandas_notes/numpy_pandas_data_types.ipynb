{
 "cells": [
  {
   "cell_type": "code",
   "execution_count": 17,
   "id": "bb1e6a3b-1da0-4495-8beb-0fc3ecd22c4b",
   "metadata": {},
   "outputs": [],
   "source": [
    "import numpy as np\n",
    "import pandas as pd\n",
    "from datetime import date, time, datetime"
   ]
  },
  {
   "cell_type": "code",
   "execution_count": 4,
   "id": "024bf3c2-706d-4f89-97e7-dc449c3678fa",
   "metadata": {},
   "outputs": [],
   "source": [
    "np.random.seed(seed=1234)"
   ]
  },
  {
   "cell_type": "markdown",
   "id": "8d4e24c9-290a-47b3-aa7f-ca51fc8739d1",
   "metadata": {},
   "source": [
    "### 1. Floating point numbers"
   ]
  },
  {
   "cell_type": "code",
   "execution_count": 5,
   "id": "ffb8bf54-4cb9-4693-8404-36f231e036cf",
   "metadata": {},
   "outputs": [
    {
     "data": {
      "text/plain": [
       "array([ 0.47143516, -1.19097569,  1.43270697, -0.3126519 , -0.72058873])"
      ]
     },
     "execution_count": 5,
     "metadata": {},
     "output_type": "execute_result"
    }
   ],
   "source": [
    "floats = np.random.randn(5)\n",
    "floats"
   ]
  },
  {
   "cell_type": "code",
   "execution_count": 6,
   "id": "f6a4e5fa-96ba-4cbd-a976-a2cca8d08974",
   "metadata": {},
   "outputs": [
    {
     "data": {
      "text/plain": [
       "dtype('float64')"
      ]
     },
     "execution_count": 6,
     "metadata": {},
     "output_type": "execute_result"
    }
   ],
   "source": [
    "floats.dtype"
   ]
  },
  {
   "cell_type": "code",
   "execution_count": 7,
   "id": "7b9c622a-8c0f-417b-9350-ed13e2b71782",
   "metadata": {},
   "outputs": [
    {
     "data": {
      "text/html": [
       "<div>\n",
       "<style scoped>\n",
       "    .dataframe tbody tr th:only-of-type {\n",
       "        vertical-align: middle;\n",
       "    }\n",
       "\n",
       "    .dataframe tbody tr th {\n",
       "        vertical-align: top;\n",
       "    }\n",
       "\n",
       "    .dataframe thead th {\n",
       "        text-align: right;\n",
       "    }\n",
       "</style>\n",
       "<table border=\"1\" class=\"dataframe\">\n",
       "  <thead>\n",
       "    <tr style=\"text-align: right;\">\n",
       "      <th></th>\n",
       "      <th>floats</th>\n",
       "    </tr>\n",
       "  </thead>\n",
       "  <tbody>\n",
       "    <tr>\n",
       "      <th>0</th>\n",
       "      <td>0.471435</td>\n",
       "    </tr>\n",
       "    <tr>\n",
       "      <th>1</th>\n",
       "      <td>-1.190976</td>\n",
       "    </tr>\n",
       "    <tr>\n",
       "      <th>2</th>\n",
       "      <td>1.432707</td>\n",
       "    </tr>\n",
       "    <tr>\n",
       "      <th>3</th>\n",
       "      <td>-0.312652</td>\n",
       "    </tr>\n",
       "    <tr>\n",
       "      <th>4</th>\n",
       "      <td>-0.720589</td>\n",
       "    </tr>\n",
       "  </tbody>\n",
       "</table>\n",
       "</div>"
      ],
      "text/plain": [
       "     floats\n",
       "0  0.471435\n",
       "1 -1.190976\n",
       "2  1.432707\n",
       "3 -0.312652\n",
       "4 -0.720589"
      ]
     },
     "execution_count": 7,
     "metadata": {},
     "output_type": "execute_result"
    }
   ],
   "source": [
    "floats_df = pd.DataFrame(data={\"floats\": floats})\n",
    "floats_df"
   ]
  },
  {
   "cell_type": "code",
   "execution_count": 8,
   "id": "8ebad0be-0356-40dd-ad20-236c07e2f955",
   "metadata": {},
   "outputs": [
    {
     "data": {
      "text/plain": [
       "floats    float64\n",
       "dtype: object"
      ]
     },
     "execution_count": 8,
     "metadata": {},
     "output_type": "execute_result"
    }
   ],
   "source": [
    "floats_df.dtypes"
   ]
  },
  {
   "cell_type": "code",
   "execution_count": 16,
   "id": "778c4b78-48c2-4107-9ca4-72837b70c5a6",
   "metadata": {},
   "outputs": [
    {
     "data": {
      "text/plain": [
       "numpy.float64"
      ]
     },
     "execution_count": 16,
     "metadata": {},
     "output_type": "execute_result"
    }
   ],
   "source": [
    "type(floats_df[\"floats\"][0])"
   ]
  },
  {
   "cell_type": "markdown",
   "id": "8c06f5c9-d400-46c2-81d0-422491ff9636",
   "metadata": {},
   "source": [
    "### 2. Integers"
   ]
  },
  {
   "cell_type": "code",
   "execution_count": 11,
   "id": "c0b76826-fa5a-406d-a468-9943efbf0d09",
   "metadata": {},
   "outputs": [
    {
     "data": {
      "text/plain": [
       "array([10,  7,  3,  1,  6])"
      ]
     },
     "execution_count": 11,
     "metadata": {},
     "output_type": "execute_result"
    }
   ],
   "source": [
    "ints = np.random.randint(1, 11, 5)\n",
    "ints"
   ]
  },
  {
   "cell_type": "code",
   "execution_count": 12,
   "id": "7cb298ec-dee4-4f01-afa9-3740529e3b86",
   "metadata": {},
   "outputs": [
    {
     "data": {
      "text/html": [
       "<div>\n",
       "<style scoped>\n",
       "    .dataframe tbody tr th:only-of-type {\n",
       "        vertical-align: middle;\n",
       "    }\n",
       "\n",
       "    .dataframe tbody tr th {\n",
       "        vertical-align: top;\n",
       "    }\n",
       "\n",
       "    .dataframe thead th {\n",
       "        text-align: right;\n",
       "    }\n",
       "</style>\n",
       "<table border=\"1\" class=\"dataframe\">\n",
       "  <thead>\n",
       "    <tr style=\"text-align: right;\">\n",
       "      <th></th>\n",
       "      <th>ints</th>\n",
       "    </tr>\n",
       "  </thead>\n",
       "  <tbody>\n",
       "    <tr>\n",
       "      <th>0</th>\n",
       "      <td>10</td>\n",
       "    </tr>\n",
       "    <tr>\n",
       "      <th>1</th>\n",
       "      <td>7</td>\n",
       "    </tr>\n",
       "    <tr>\n",
       "      <th>2</th>\n",
       "      <td>3</td>\n",
       "    </tr>\n",
       "    <tr>\n",
       "      <th>3</th>\n",
       "      <td>1</td>\n",
       "    </tr>\n",
       "    <tr>\n",
       "      <th>4</th>\n",
       "      <td>6</td>\n",
       "    </tr>\n",
       "  </tbody>\n",
       "</table>\n",
       "</div>"
      ],
      "text/plain": [
       "   ints\n",
       "0    10\n",
       "1     7\n",
       "2     3\n",
       "3     1\n",
       "4     6"
      ]
     },
     "execution_count": 12,
     "metadata": {},
     "output_type": "execute_result"
    }
   ],
   "source": [
    "ints_df = pd.DataFrame(data={\"ints\": ints})\n",
    "ints_df"
   ]
  },
  {
   "cell_type": "code",
   "execution_count": 13,
   "id": "9f151b8f-722d-4ccc-99d3-3e0cdfc049ef",
   "metadata": {},
   "outputs": [
    {
     "data": {
      "text/plain": [
       "ints    int64\n",
       "dtype: object"
      ]
     },
     "execution_count": 13,
     "metadata": {},
     "output_type": "execute_result"
    }
   ],
   "source": [
    "ints_df.dtypes"
   ]
  },
  {
   "cell_type": "code",
   "execution_count": 15,
   "id": "311196ee-e036-40dc-804e-1eef46fe963d",
   "metadata": {},
   "outputs": [
    {
     "data": {
      "text/plain": [
       "numpy.int64"
      ]
     },
     "execution_count": 15,
     "metadata": {},
     "output_type": "execute_result"
    }
   ],
   "source": [
    "type(ints_df[\"ints\"][0])"
   ]
  },
  {
   "cell_type": "markdown",
   "id": "98a9241c-b877-4b24-bf45-97b035749c60",
   "metadata": {},
   "source": [
    "## 3. datetimes"
   ]
  },
  {
   "cell_type": "markdown",
   "id": "a8bac991-b482-422d-b33e-1b318ea74725",
   "metadata": {},
   "source": [
    "Note: note that NumPy does not support timezone-aware datetimes"
   ]
  },
  {
   "cell_type": "code",
   "execution_count": null,
   "id": "17dfea09-6235-4f87-bb25-9f8d936f795b",
   "metadata": {},
   "outputs": [],
   "source": [
    "d = date()\n",
    "dt = datetime()"
   ]
  }
 ],
 "metadata": {
  "kernelspec": {
   "display_name": "Python 3 (ipykernel)",
   "language": "python",
   "name": "python3"
  },
  "language_info": {
   "codemirror_mode": {
    "name": "ipython",
    "version": 3
   },
   "file_extension": ".py",
   "mimetype": "text/x-python",
   "name": "python",
   "nbconvert_exporter": "python",
   "pygments_lexer": "ipython3",
   "version": "3.11.4"
  }
 },
 "nbformat": 4,
 "nbformat_minor": 5
}
