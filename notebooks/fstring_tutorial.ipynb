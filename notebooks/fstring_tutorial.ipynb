{
 "cells": [
  {
   "cell_type": "code",
   "execution_count": 1,
   "id": "cb97f2e0-e9ca-4a0e-a218-627a7f7925aa",
   "metadata": {},
   "outputs": [],
   "source": [
    "from typing import Final\n",
    "from datetime import datetime\n",
    "import pytz"
   ]
  },
  {
   "cell_type": "code",
   "execution_count": 2,
   "id": "8322761b-5939-4392-86ce-8a742d204bc0",
   "metadata": {},
   "outputs": [],
   "source": [
    "from string import ascii_uppercase"
   ]
  },
  {
   "cell_type": "code",
   "execution_count": 3,
   "id": "e40c8479-4723-44d7-a4b8-800a5cfd00b0",
   "metadata": {},
   "outputs": [],
   "source": [
    "import numpy as np"
   ]
  },
  {
   "cell_type": "markdown",
   "id": "41c10a7d-72c0-44d4-9bc6-170b1b85e5d8",
   "metadata": {},
   "source": [
    "## Table of Contents"
   ]
  },
  {
   "cell_type": "markdown",
   "id": "7bfe939a-fba1-4b19-af3e-af86c5a231d5",
   "metadata": {},
   "source": [
    "1. Formatting Numbers\n",
    "2. Formatting Datetimes\n",
    "3. Formatting Strings"
   ]
  },
  {
   "cell_type": "markdown",
   "id": "1c32753c-4343-4d6b-82d8-051ff81f2795",
   "metadata": {},
   "source": [
    "References:\n",
    "* [Formatting of datetimes using f-strings](https://mathspp.com/blog/twitter-threads/datetime-objects-and-f-strings)"
   ]
  },
  {
   "cell_type": "markdown",
   "id": "df19d916-9ee0-4575-adf1-e1064a52d037",
   "metadata": {},
   "source": [
    "## 1. Formatting Numbers"
   ]
  },
  {
   "cell_type": "markdown",
   "id": "979f1665-9ce8-4cc5-9b1e-f3203da38a38",
   "metadata": {},
   "source": [
    "#### 1.1. Float"
   ]
  },
  {
   "cell_type": "code",
   "execution_count": 4,
   "id": "0adf3abe-27ff-45db-9838-3409fa22ed1f",
   "metadata": {},
   "outputs": [],
   "source": [
    "np.random.seed(12345)"
   ]
  },
  {
   "cell_type": "code",
   "execution_count": 5,
   "id": "48fcd349-1b00-4fa4-ae89-70af764ce1d5",
   "metadata": {},
   "outputs": [],
   "source": [
    "x = np.random.randn(1)[0]"
   ]
  },
  {
   "cell_type": "markdown",
   "id": "97dd9eae-7ab8-4875-aa82-323374465dba",
   "metadata": {},
   "source": [
    "Print raw number"
   ]
  },
  {
   "cell_type": "code",
   "execution_count": 6,
   "id": "94810123-44a3-4544-9657-5576ac6188f4",
   "metadata": {},
   "outputs": [
    {
     "name": "stdout",
     "output_type": "stream",
     "text": [
      "x=-0.20470765948471295\n"
     ]
    }
   ],
   "source": [
    "print(f\"{x=}\")"
   ]
  },
  {
   "cell_type": "markdown",
   "id": "64c82253-5128-496f-86f9-474070ffec5c",
   "metadata": {},
   "source": [
    "Display 5 decimal places only:"
   ]
  },
  {
   "cell_type": "code",
   "execution_count": 7,
   "id": "4f542457-f464-416b-ad3c-60f9d382b36f",
   "metadata": {},
   "outputs": [
    {
     "name": "stdout",
     "output_type": "stream",
     "text": [
      "x=-0.20471\n"
     ]
    }
   ],
   "source": [
    "print(f\"{x=:0.5f}\")"
   ]
  },
  {
   "cell_type": "markdown",
   "id": "5465c78c-cf1b-4247-bf97-2320ca4ab997",
   "metadata": {},
   "source": [
    "Play with decimal and thousands separators for large numbers"
   ]
  },
  {
   "cell_type": "code",
   "execution_count": 8,
   "id": "0fc69c8a-5ffe-4ffd-b4e4-112d38533571",
   "metadata": {},
   "outputs": [],
   "source": [
    "y = 123_456.78901"
   ]
  },
  {
   "cell_type": "code",
   "execution_count": 9,
   "id": "6838a83a-02b5-4d0d-9c4a-43cd640d0753",
   "metadata": {},
   "outputs": [
    {
     "name": "stdout",
     "output_type": "stream",
     "text": [
      "y=123456.78901\n"
     ]
    }
   ],
   "source": [
    "print(f\"{y=}\")"
   ]
  },
  {
   "cell_type": "code",
   "execution_count": 10,
   "id": "f7ed4c4e-aa9f-488e-82f6-1bcbcc17f86f",
   "metadata": {},
   "outputs": [
    {
     "name": "stdout",
     "output_type": "stream",
     "text": [
      "y=123,456.789\n"
     ]
    }
   ],
   "source": [
    "print(f\"{y=:,.3f}\")"
   ]
  },
  {
   "cell_type": "code",
   "execution_count": 11,
   "id": "2a84db04-3c81-4dc8-8160-beeb2da38bfa",
   "metadata": {},
   "outputs": [
    {
     "name": "stdout",
     "output_type": "stream",
     "text": [
      "y=123_456.79\n"
     ]
    }
   ],
   "source": [
    "print(f\"{y=:_.2f}\")"
   ]
  },
  {
   "cell_type": "markdown",
   "id": "13e2d8b6-4489-4559-b118-fcb52175845e",
   "metadata": {},
   "source": [
    "#### 1.2. Integer"
   ]
  },
  {
   "cell_type": "code",
   "execution_count": 12,
   "id": "497ab14d-6b1d-4d08-992b-1c2c7f66805d",
   "metadata": {},
   "outputs": [],
   "source": [
    "i = 33"
   ]
  },
  {
   "cell_type": "markdown",
   "id": "39f1363c-0dd4-4878-81c2-fbd86b3ac234",
   "metadata": {},
   "source": [
    "Print with leading zeros"
   ]
  },
  {
   "cell_type": "code",
   "execution_count": 13,
   "id": "99b6550e-bd53-4b95-b510-11a377c18411",
   "metadata": {},
   "outputs": [
    {
     "name": "stdout",
     "output_type": "stream",
     "text": [
      "i=00033\n"
     ]
    }
   ],
   "source": [
    "print(f\"{i=:05}\")"
   ]
  },
  {
   "cell_type": "markdown",
   "id": "423cd916-317c-47ea-ae1a-12206e4f3d41",
   "metadata": {},
   "source": [
    "Print as binary"
   ]
  },
  {
   "cell_type": "code",
   "execution_count": 14,
   "id": "93e62e2e-6fb4-48ee-a688-187db03d0ec5",
   "metadata": {},
   "outputs": [
    {
     "name": "stdout",
     "output_type": "stream",
     "text": [
      "i=100001\n"
     ]
    }
   ],
   "source": [
    "print(f\"{i=:b}\")"
   ]
  },
  {
   "cell_type": "markdown",
   "id": "7f27403f-c8bf-4dc5-8f16-f0c48d1e82cd",
   "metadata": {},
   "source": [
    "Print as binary with leading zeros"
   ]
  },
  {
   "cell_type": "code",
   "execution_count": 15,
   "id": "a38c9849-5577-4fe4-8d34-ccf2a731563e",
   "metadata": {},
   "outputs": [
    {
     "name": "stdout",
     "output_type": "stream",
     "text": [
      "i=0000100001\n"
     ]
    }
   ],
   "source": [
    "print(f\"{i=:010b}\")"
   ]
  },
  {
   "cell_type": "markdown",
   "id": "f50083a7-322c-4cd6-953c-54650b9aa504",
   "metadata": {},
   "source": [
    "## 2. Formatting Datetimes"
   ]
  },
  {
   "cell_type": "code",
   "execution_count": 16,
   "id": "62a0e9ea-645a-4b2b-bdc0-dbe4c22fdab7",
   "metadata": {},
   "outputs": [],
   "source": [
    "MADRID_TIME: Final = pytz.timezone(\"Europe/Madrid\")\n",
    "MOSCOW_TIME: Final = pytz.timezone(\"Europe/Moscow\")\n",
    "WARSAW_TIME: Final = pytz.timezone(\"Europe/Warsaw\")"
   ]
  },
  {
   "cell_type": "markdown",
   "id": "3d2fa48c-6db4-4663-841c-b7e7bb12f83e",
   "metadata": {},
   "source": [
    "Print date in preferred format"
   ]
  },
  {
   "cell_type": "code",
   "execution_count": 17,
   "id": "98917bf0-63c9-43b6-9ad4-00cb06311ca3",
   "metadata": {},
   "outputs": [
    {
     "name": "stdout",
     "output_type": "stream",
     "text": [
      "31.05.2025\n",
      "25/05/31\n"
     ]
    }
   ],
   "source": [
    "now_ = datetime.now()\n",
    "print(f\"{now_:%d.%m.%Y}\")\n",
    "print(f\"{now_:%y/%m/%d}\")"
   ]
  },
  {
   "cell_type": "markdown",
   "id": "c64e0ee9-2745-4448-a919-931f0dfef41a",
   "metadata": {},
   "source": [
    "Make datetime timezone-aware for later use"
   ]
  },
  {
   "cell_type": "code",
   "execution_count": 18,
   "id": "b159fefc-627e-414c-88a6-c16517dc5787",
   "metadata": {},
   "outputs": [
    {
     "name": "stdout",
     "output_type": "stream",
     "text": [
      "now_=datetime.datetime(2025, 5, 31, 18, 22, 53, 532563)\n",
      "now_=datetime.datetime(2025, 5, 31, 18, 22, 53, 532563, tzinfo=<DstTzInfo 'Europe/Madrid' LMT-1 day, 23:45:00 STD>)\n"
     ]
    }
   ],
   "source": [
    "print(f\"{now_=}\")\n",
    "now_ = now_.replace(tzinfo=MADRID_TIME)\n",
    "print(f\"{now_=}\")"
   ]
  },
  {
   "cell_type": "markdown",
   "id": "52841cbf-bf57-42ba-a334-9b5e9a9434f4",
   "metadata": {},
   "source": [
    "Print timezone-aware datetime"
   ]
  },
  {
   "cell_type": "code",
   "execution_count": 19,
   "id": "bca9c1b4-d196-452d-a862-ce49d6ad72f5",
   "metadata": {},
   "outputs": [
    {
     "name": "stdout",
     "output_type": "stream",
     "text": [
      "2025/05/31 18:22:53.532563 -0015\n"
     ]
    }
   ],
   "source": [
    "print(f\"{now_:%Y/%m/%d %H:%M:%S.%f %z}\")"
   ]
  },
  {
   "cell_type": "code",
   "execution_count": 20,
   "id": "48cfa168-b1b6-42b4-aed8-719d756d440f",
   "metadata": {},
   "outputs": [],
   "source": [
    "now_moscow = now_.astimezone(MOSCOW_TIME)\n",
    "now_warsaw = now_.astimezone(WARSAW_TIME)"
   ]
  },
  {
   "cell_type": "code",
   "execution_count": 21,
   "id": "6015a799-ef2e-4a58-b56d-09d23bcf544c",
   "metadata": {},
   "outputs": [
    {
     "name": "stdout",
     "output_type": "stream",
     "text": [
      "now_moscow=2025-05-31 21:37:53.532563 +0300\n"
     ]
    }
   ],
   "source": [
    "print(f\"{now_moscow=:%Y-%m-%d %H:%M:%S.%f %z}\")"
   ]
  },
  {
   "cell_type": "code",
   "execution_count": 22,
   "id": "6d7d4979-4ad2-4007-b7dc-7a9740c9b9f5",
   "metadata": {},
   "outputs": [
    {
     "name": "stdout",
     "output_type": "stream",
     "text": [
      "now_warsaw=2025-05-31 20:37:53.532563 +0200\n"
     ]
    }
   ],
   "source": [
    "print(f\"{now_warsaw=:%Y-%m-%d %H:%M:%S.%f %z}\")"
   ]
  },
  {
   "cell_type": "markdown",
   "id": "9ddb3c97-10d3-4771-a025-30548d7cf5e2",
   "metadata": {},
   "source": [
    "## 3. Formatting Strings"
   ]
  },
  {
   "cell_type": "code",
   "execution_count": 23,
   "id": "19466a55-8efa-4a40-b4f1-ec3af6aa7cf3",
   "metadata": {},
   "outputs": [],
   "source": [
    "LTTRS: Final[str] = ascii_uppercase[:5]"
   ]
  },
  {
   "cell_type": "code",
   "execution_count": 24,
   "id": "1a33d9cf-796a-4f51-94db-988096d460a7",
   "metadata": {},
   "outputs": [
    {
     "name": "stdout",
     "output_type": "stream",
     "text": [
      "ABCDE\n"
     ]
    }
   ],
   "source": [
    "print(f\"{LTTRS}\")"
   ]
  },
  {
   "cell_type": "code",
   "execution_count": 25,
   "id": "9c282aec-7a67-4d1e-bfa7-08e4ad9be63a",
   "metadata": {},
   "outputs": [
    {
     "name": "stdout",
     "output_type": "stream",
     "text": [
      "RHS:                          ABCDE[marker]\n",
      "LHS: ABCDE                         [marker]\n"
     ]
    }
   ],
   "source": [
    "# left and right alignments\n",
    "print(f\"RHS: {LTTRS:>30}[marker]\")\n",
    "print(f\"LHS: {LTTRS:<30}[marker]\")"
   ]
  },
  {
   "cell_type": "code",
   "execution_count": 26,
   "id": "668eaa74-a442-4767-820e-09c3d6e1821b",
   "metadata": {},
   "outputs": [
    {
     "name": "stdout",
     "output_type": "stream",
     "text": [
      "LHS:             ABCDE             [marker]\n"
     ]
    }
   ],
   "source": [
    "# centering\n",
    "print(f\"LHS: {LTTRS:^30}[marker]\")"
   ]
  },
  {
   "cell_type": "code",
   "execution_count": 27,
   "id": "3024e01e-bf7a-4cad-856c-86e43ae4c409",
   "metadata": {},
   "outputs": [
    {
     "name": "stdout",
     "output_type": "stream",
     "text": [
      "RHS: -------------------------ABCDE[marker]\n",
      "LHS: ABCDE-------------------------[marker]\n",
      "LHS: ------------ABCDE-------------[marker]\n"
     ]
    }
   ],
   "source": [
    "# adding fill-in symbols\n",
    "print(f\"RHS: {LTTRS:->30}[marker]\")\n",
    "print(f\"LHS: {LTTRS:-<30}[marker]\")\n",
    "print(f\"LHS: {LTTRS:-^30}[marker]\")"
   ]
  },
  {
   "cell_type": "code",
   "execution_count": null,
   "id": "c4c466ee-6aa0-4b78-9699-4eb0f6e178b8",
   "metadata": {},
   "outputs": [],
   "source": []
  }
 ],
 "metadata": {
  "kernelspec": {
   "display_name": "Python 3 (ipykernel)",
   "language": "python",
   "name": "python3"
  },
  "language_info": {
   "codemirror_mode": {
    "name": "ipython",
    "version": 3
   },
   "file_extension": ".py",
   "mimetype": "text/x-python",
   "name": "python",
   "nbconvert_exporter": "python",
   "pygments_lexer": "ipython3",
   "version": "3.12.3"
  }
 },
 "nbformat": 4,
 "nbformat_minor": 5
}
