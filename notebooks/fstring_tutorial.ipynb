{
 "cells": [
  {
   "cell_type": "code",
   "execution_count": 1,
   "id": "e40c8479-4723-44d7-a4b8-800a5cfd00b0",
   "metadata": {},
   "outputs": [],
   "source": [
    "import numpy as np"
   ]
  },
  {
   "cell_type": "markdown",
   "id": "41c10a7d-72c0-44d4-9bc6-170b1b85e5d8",
   "metadata": {},
   "source": [
    "## Table of Contents"
   ]
  },
  {
   "cell_type": "markdown",
   "id": "7bfe939a-fba1-4b19-af3e-af86c5a231d5",
   "metadata": {},
   "source": [
    "1. Formatting Numbers\n",
    "2. Formatting Datetimes"
   ]
  },
  {
   "cell_type": "markdown",
   "id": "1c32753c-4343-4d6b-82d8-051ff81f2795",
   "metadata": {},
   "source": [
    "References:\n",
    "* [Formatting of datetimes using f-strings](https://mathspp.com/blog/twitter-threads/datetime-objects-and-f-strings)"
   ]
  },
  {
   "cell_type": "markdown",
   "id": "df19d916-9ee0-4575-adf1-e1064a52d037",
   "metadata": {},
   "source": [
    "## 1. Formatting Numbers"
   ]
  },
  {
   "cell_type": "markdown",
   "id": "979f1665-9ce8-4cc5-9b1e-f3203da38a38",
   "metadata": {},
   "source": [
    "#### 1.1. Float"
   ]
  },
  {
   "cell_type": "code",
   "execution_count": 13,
   "id": "0adf3abe-27ff-45db-9838-3409fa22ed1f",
   "metadata": {},
   "outputs": [],
   "source": [
    "np.random.seed(12345)"
   ]
  },
  {
   "cell_type": "code",
   "execution_count": 14,
   "id": "48fcd349-1b00-4fa4-ae89-70af764ce1d5",
   "metadata": {},
   "outputs": [],
   "source": [
    "x = np.random.randn(1)[0]"
   ]
  },
  {
   "cell_type": "markdown",
   "id": "97dd9eae-7ab8-4875-aa82-323374465dba",
   "metadata": {},
   "source": [
    "Print raw number"
   ]
  },
  {
   "cell_type": "code",
   "execution_count": 16,
   "id": "94810123-44a3-4544-9657-5576ac6188f4",
   "metadata": {},
   "outputs": [
    {
     "name": "stdout",
     "output_type": "stream",
     "text": [
      "x=-0.20470765948471295\n"
     ]
    }
   ],
   "source": [
    "print(f\"{x=}\")"
   ]
  },
  {
   "cell_type": "markdown",
   "id": "64c82253-5128-496f-86f9-474070ffec5c",
   "metadata": {},
   "source": [
    "Display 5 decimal places only:"
   ]
  },
  {
   "cell_type": "code",
   "execution_count": 18,
   "id": "4f542457-f464-416b-ad3c-60f9d382b36f",
   "metadata": {},
   "outputs": [
    {
     "name": "stdout",
     "output_type": "stream",
     "text": [
      "x=-0.20471\n"
     ]
    }
   ],
   "source": [
    "print(f\"{x=:0.5f}\")"
   ]
  },
  {
   "cell_type": "markdown",
   "id": "5465c78c-cf1b-4247-bf97-2320ca4ab997",
   "metadata": {},
   "source": [
    "Play with decimal and thousands separators for large numbers"
   ]
  },
  {
   "cell_type": "code",
   "execution_count": 31,
   "id": "0fc69c8a-5ffe-4ffd-b4e4-112d38533571",
   "metadata": {},
   "outputs": [],
   "source": [
    "y = 123_456.78901"
   ]
  },
  {
   "cell_type": "code",
   "execution_count": 32,
   "id": "6838a83a-02b5-4d0d-9c4a-43cd640d0753",
   "metadata": {},
   "outputs": [
    {
     "name": "stdout",
     "output_type": "stream",
     "text": [
      "y=123456.78901\n"
     ]
    }
   ],
   "source": [
    "print(f\"{y=}\")"
   ]
  },
  {
   "cell_type": "code",
   "execution_count": 38,
   "id": "f7ed4c4e-aa9f-488e-82f6-1bcbcc17f86f",
   "metadata": {},
   "outputs": [
    {
     "name": "stdout",
     "output_type": "stream",
     "text": [
      "y=123,456.789\n"
     ]
    }
   ],
   "source": [
    "print(f\"{y=:,.3f}\")"
   ]
  },
  {
   "cell_type": "code",
   "execution_count": 47,
   "id": "2a84db04-3c81-4dc8-8160-beeb2da38bfa",
   "metadata": {},
   "outputs": [
    {
     "name": "stdout",
     "output_type": "stream",
     "text": [
      "y=123_456.79\n"
     ]
    }
   ],
   "source": [
    "print(f\"{y=:_.2f}\")"
   ]
  },
  {
   "cell_type": "markdown",
   "id": "13e2d8b6-4489-4559-b118-fcb52175845e",
   "metadata": {},
   "source": [
    "#### 1.2. Integer"
   ]
  },
  {
   "cell_type": "code",
   "execution_count": 22,
   "id": "497ab14d-6b1d-4d08-992b-1c2c7f66805d",
   "metadata": {},
   "outputs": [],
   "source": [
    "i = 33"
   ]
  },
  {
   "cell_type": "markdown",
   "id": "39f1363c-0dd4-4878-81c2-fbd86b3ac234",
   "metadata": {},
   "source": [
    "Print with leading zeros"
   ]
  },
  {
   "cell_type": "code",
   "execution_count": 25,
   "id": "99b6550e-bd53-4b95-b510-11a377c18411",
   "metadata": {},
   "outputs": [
    {
     "name": "stdout",
     "output_type": "stream",
     "text": [
      "i=00033\n"
     ]
    }
   ],
   "source": [
    "print(f\"{i=:05}\")"
   ]
  },
  {
   "cell_type": "markdown",
   "id": "423cd916-317c-47ea-ae1a-12206e4f3d41",
   "metadata": {},
   "source": [
    "Print as binary"
   ]
  },
  {
   "cell_type": "code",
   "execution_count": 26,
   "id": "93e62e2e-6fb4-48ee-a688-187db03d0ec5",
   "metadata": {},
   "outputs": [
    {
     "name": "stdout",
     "output_type": "stream",
     "text": [
      "i=100001\n"
     ]
    }
   ],
   "source": [
    "print(f\"{i=:b}\")"
   ]
  },
  {
   "cell_type": "markdown",
   "id": "7f27403f-c8bf-4dc5-8f16-f0c48d1e82cd",
   "metadata": {},
   "source": [
    "Print as binary with leading zeros"
   ]
  },
  {
   "cell_type": "code",
   "execution_count": 30,
   "id": "a38c9849-5577-4fe4-8d34-ccf2a731563e",
   "metadata": {},
   "outputs": [
    {
     "name": "stdout",
     "output_type": "stream",
     "text": [
      "i=0000100001\n"
     ]
    }
   ],
   "source": [
    "print(f\"{i=:010b}\")"
   ]
  },
  {
   "cell_type": "markdown",
   "id": "f50083a7-322c-4cd6-953c-54650b9aa504",
   "metadata": {},
   "source": [
    "## 2. Formatting Datetimes"
   ]
  },
  {
   "cell_type": "code",
   "execution_count": null,
   "id": "fb0c33d6-0680-413d-9155-8997ad3bf8cc",
   "metadata": {},
   "outputs": [],
   "source": []
  }
 ],
 "metadata": {
  "kernelspec": {
   "display_name": "Python 3 (ipykernel)",
   "language": "python",
   "name": "python3"
  },
  "language_info": {
   "codemirror_mode": {
    "name": "ipython",
    "version": 3
   },
   "file_extension": ".py",
   "mimetype": "text/x-python",
   "name": "python",
   "nbconvert_exporter": "python",
   "pygments_lexer": "ipython3",
   "version": "3.12.3"
  }
 },
 "nbformat": 4,
 "nbformat_minor": 5
}
